{
 "cells": [
  {
   "cell_type": "code",
   "execution_count": null,
   "id": "abf5adc9",
   "metadata": {},
   "outputs": [],
   "source": [
    "import random\n",
    "import math\n",
    "import numpy as np\n",
    "import plotly.graph_objects as go\n",
    "#\"plotly.graph_objects\" bu kütüphaneyi buldum ve tabloda bunu kullandım."
   ]
  },
  {
   "cell_type": "code",
   "execution_count": null,
   "id": "8920f383",
   "metadata": {},
   "outputs": [],
   "source": [
    "son_iki_h = input(\"Okul numaranızın son iki hanesini giriniz: \")"
   ]
  },
  {
   "cell_type": "code",
   "execution_count": null,
   "id": "615b538e",
   "metadata": {},
   "outputs": [],
   "source": [
    "if son_iki_h.isdigit():\n",
    "    son_iki = int(son_iki_h)\n",
    "else:\n",
    "    print(\"Lütfen sadece sayısal değerler giriniz.\")"
   ]
  },
  {
   "cell_type": "code",
   "execution_count": null,
   "id": "350694ac",
   "metadata": {},
   "outputs": [],
   "source": [
    "aci = math.radians(30)\n",
    "g = 9.81\n",
    "top_konum = [0, son_iki]"
   ]
  },
  {
   "cell_type": "code",
   "execution_count": null,
   "id": "82763412",
   "metadata": {
    "lines_to_next_cell": 1
   },
   "outputs": [],
   "source": [
    "uzaklik_mesafesi = 20000 + 200 * random.randint(-10, 10)\n",
    "genislik_baslangic = uzaklik_mesafesi\n",
    "genislik_bitis = uzaklik_mesafesi + 1000 + 100 * random.randint(-2, 2)"
   ]
  },
  {
   "cell_type": "code",
   "execution_count": null,
   "id": "07703f94",
   "metadata": {
    "lines_to_next_cell": 1
   },
   "outputs": [],
   "source": [
    "def atis_simulasyonu(hiz_alt_siniri, hiz_ust_siniri):\n",
    "    atis_sayisi = 0\n",
    "    while True:\n",
    "        atis_sayisi += 1\n",
    "        hiz = (hiz_alt_siniri + hiz_ust_siniri) / 2\n",
    "        ucus_suresi = (2 * hiz * math.sin(aci)) / g\n",
    "        menzil = hiz * math.cos(aci) * ucus_suresi\n",
    "        dusme_noktasi = top_konum[0] + menzil\n",
    "\n",
    "        if dusme_noktasi < genislik_baslangic:\n",
    "            mesafe_farki = genislik_baslangic - dusme_noktasi\n",
    "            print(f\"{atis_sayisi}. Atış: |Önüne düştü.   Az Kaldı Ha Gayret.|  |Hız: {hiz:.2f} m/s\")\n",
    "            hiz_alt_siniri = hiz\n",
    "        elif dusme_noktasi > genislik_bitis:\n",
    "            mesafe_farki = dusme_noktasi - genislik_bitis\n",
    "            print(f\"{atis_sayisi}. Atış: |Uzağına düştü. Tekrar Deniyoruz.  |  |Hız: {hiz:.2f} m/s\")\n",
    "            hiz_ust_siniri = hiz\n",
    "        else:\n",
    "            mesafe_farki = 0\n",
    "            print(f\"{atis_sayisi}. Atış: |        !!!Tam İsabet!!!          |  |Hız: {hiz:.2f} m/s\")\n",
    "\n",
    "            t = np.linspace(0, ucus_suresi, num=300)\n",
    "            x = hiz * np.cos(aci) * t\n",
    "            y = hiz * np.sin(aci) * t - (0.5 * g * t ** 2)\n",
    "\n",
    "            fig = go.Figure()\n",
    "            fig.add_trace(go.Scatter(x=x, y=y, mode='lines', name='Atış Yolu'))\n",
    "            fig.add_shape(type=\"rect\", x0=genislik_baslangic, y0=0, x1=genislik_bitis, y1=50, fillcolor=\"olivedrab\", opacity=0.5, line=dict(color=\"rgba(0,0,0,0)\"))\n",
    "            fig.update_layout(title='Top Mermisi Atış Grafiği', xaxis_title='Mesafe (metre)', yaxis_title='Yükseklik (metre)', showlegend=True)\n",
    "            fig.show()\n",
    "            break"
   ]
  },
  {
   "cell_type": "code",
   "execution_count": null,
   "id": "57181c51",
   "metadata": {},
   "outputs": [],
   "source": [
    "hiz_alt_siniri = 330\n",
    "hiz_ust_siniri = 1800"
   ]
  },
  {
   "cell_type": "code",
   "execution_count": null,
   "id": "526cf856",
   "metadata": {},
   "outputs": [],
   "source": [
    "atis_simulasyonu(hiz_alt_siniri, hiz_ust_siniri)"
   ]
  }
 ],
 "metadata": {
  "jupytext": {
   "cell_metadata_filter": "-all",
   "main_language": "python",
   "notebook_metadata_filter": "-all"
  }
 },
 "nbformat": 4,
 "nbformat_minor": 5
}
